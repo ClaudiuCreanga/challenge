{
 "cells": [
  {
   "cell_type": "code",
   "execution_count": 1,
   "metadata": {
    "collapsed": true
   },
   "outputs": [],
   "source": [
    "import pandas as pd\n",
    "import numpy as np\n",
    "import tensorflow as tf\n",
    "import sklearn\n",
    "import math\n",
    "%matplotlib inline\n",
    "import matplotlib as plt"
   ]
  },
  {
   "cell_type": "code",
   "execution_count": 3,
   "metadata": {},
   "outputs": [],
   "source": [
    "# 4 times 3 ggg and there can be 1-7 nucleotides in between. that nucleotide can be a G too.\n",
    "# the minus ones are C. -/+ is the strand. + is the strand\n",
    "# in the bed file is only the motif itself. we can look with deep learning more upstream and downstream"
   ]
  },
  {
   "cell_type": "code",
   "execution_count": 4,
   "metadata": {},
   "outputs": [
    {
     "data": {
      "text/plain": [
       "{'A': 0, 'C': 1, 'G': 2, 'T': 3}"
      ]
     },
     "execution_count": 4,
     "metadata": {},
     "output_type": "execute_result"
    }
   ],
   "source": [
    "bases = dict(zip(\"ACGT\", [0,1,2,3]))\n",
    "bases "
   ]
  },
  {
   "cell_type": "code",
   "execution_count": 5,
   "metadata": {},
   "outputs": [
    {
     "data": {
      "text/html": [
       "<div>\n",
       "<style scoped>\n",
       "    .dataframe tbody tr th:only-of-type {\n",
       "        vertical-align: middle;\n",
       "    }\n",
       "\n",
       "    .dataframe tbody tr th {\n",
       "        vertical-align: top;\n",
       "    }\n",
       "\n",
       "    .dataframe thead th {\n",
       "        text-align: right;\n",
       "    }\n",
       "</style>\n",
       "<table border=\"1\" class=\"dataframe\">\n",
       "  <thead>\n",
       "    <tr style=\"text-align: right;\">\n",
       "      <th></th>\n",
       "      <th>chr</th>\n",
       "      <th>start</th>\n",
       "      <th>end</th>\n",
       "      <th>seq</th>\n",
       "      <th>col</th>\n",
       "      <th>strand</th>\n",
       "    </tr>\n",
       "  </thead>\n",
       "  <tbody>\n",
       "    <tr>\n",
       "      <th>0</th>\n",
       "      <td>chr1</td>\n",
       "      <td>790094</td>\n",
       "      <td>790096</td>\n",
       "      <td>GGGATGGGATGGGATGGGATGGGATGGG</td>\n",
       "      <td>1111</td>\n",
       "      <td>+</td>\n",
       "    </tr>\n",
       "    <tr>\n",
       "      <th>1</th>\n",
       "      <td>chr1</td>\n",
       "      <td>790097</td>\n",
       "      <td>790113</td>\n",
       "      <td>GGGATGGGATGGGATGGGATGGGATGGG</td>\n",
       "      <td>1111</td>\n",
       "      <td>+</td>\n",
       "    </tr>\n",
       "    <tr>\n",
       "      <th>2</th>\n",
       "      <td>chr1</td>\n",
       "      <td>834091</td>\n",
       "      <td>834096</td>\n",
       "      <td>GGGGTTTGGGGGCTGGGGCCTGGGAGGG</td>\n",
       "      <td>1111</td>\n",
       "      <td>+</td>\n",
       "    </tr>\n",
       "    <tr>\n",
       "      <th>3</th>\n",
       "      <td>chr1</td>\n",
       "      <td>835046</td>\n",
       "      <td>835069</td>\n",
       "      <td>CCCTCTCCCTTGCCTCCCTCCCC</td>\n",
       "      <td>1111</td>\n",
       "      <td>-</td>\n",
       "    </tr>\n",
       "    <tr>\n",
       "      <th>4</th>\n",
       "      <td>chr1</td>\n",
       "      <td>844622</td>\n",
       "      <td>844631</td>\n",
       "      <td>GGGTCTGCGGGGAGTAGGGTGGGG</td>\n",
       "      <td>1111</td>\n",
       "      <td>+</td>\n",
       "    </tr>\n",
       "  </tbody>\n",
       "</table>\n",
       "</div>"
      ],
      "text/plain": [
       "<div>\n",
       "<style scoped>\n",
       "    .dataframe tbody tr th:only-of-type {\n",
       "        vertical-align: middle;\n",
       "    }\n",
       "\n",
       "    .dataframe tbody tr th {\n",
       "        vertical-align: top;\n",
       "    }\n",
       "\n",
       "    .dataframe thead th {\n",
       "        text-align: right;\n",
       "    }\n",
       "</style>\n",
       "<table border=\"1\" class=\"dataframe\">\n",
       "  <thead>\n",
       "    <tr style=\"text-align: right;\">\n",
       "      <th></th>\n",
       "      <th>chr</th>\n",
       "      <th>start</th>\n",
       "      <th>end</th>\n",
       "      <th>seq</th>\n",
       "      <th>col</th>\n",
       "      <th>strand</th>\n",
       "    </tr>\n",
       "  </thead>\n",
       "  <tbody>\n",
       "    <tr>\n",
       "      <th>0</th>\n",
       "      <td>chr1</td>\n",
       "      <td>790094</td>\n",
       "      <td>790096</td>\n",
       "      <td>GGGATGGGATGGGATGGGATGGGATGGG</td>\n",
       "      <td>1111</td>\n",
       "      <td>+</td>\n",
       "    </tr>\n",
       "    <tr>\n",
       "      <th>1</th>\n",
       "      <td>chr1</td>\n",
       "      <td>790097</td>\n",
       "      <td>790113</td>\n",
       "      <td>GGGATGGGATGGGATGGGATGGGATGGG</td>\n",
       "      <td>1111</td>\n",
       "      <td>+</td>\n",
       "    </tr>\n",
       "    <tr>\n",
       "      <th>2</th>\n",
       "      <td>chr1</td>\n",
       "      <td>834091</td>\n",
       "      <td>834096</td>\n",
       "      <td>GGGGTTTGGGGGCTGGGGCCTGGGAGGG</td>\n",
       "      <td>1111</td>\n",
       "      <td>+</td>\n",
       "    </tr>\n",
       "    <tr>\n",
       "      <th>3</th>\n",
       "      <td>chr1</td>\n",
       "      <td>835046</td>\n",
       "      <td>835069</td>\n",
       "      <td>CCCTCTCCCTTGCCTCCCTCCCC</td>\n",
       "      <td>1111</td>\n",
       "      <td>-</td>\n",
       "    </tr>\n",
       "    <tr>\n",
       "      <th>4</th>\n",
       "      <td>chr1</td>\n",
       "      <td>844622</td>\n",
       "      <td>844631</td>\n",
       "      <td>GGGTCTGCGGGGAGTAGGGTGGGG</td>\n",
       "      <td>1111</td>\n",
       "      <td>+</td>\n",
       "    </tr>\n",
       "  </tbody>\n",
       "</table>\n",
       "</div>"
      ]
     },
     "execution_count": 5,
     "metadata": {},
     "output_type": "execute_result"
    }
   ],
   "source": [
    "positive = pd.read_csv(\"data/g_quad_AAAA_unique_noSSE.bed\", delimiter=\"\\t\", names=[\"chr\", \"start\", \"end\",\n",
    "                                                                                     \"seq\", \"col\", \"strand\"])\n",
    "positive.head()"
   ]
  },
  {
   "cell_type": "code",
   "execution_count": 6,
   "metadata": {
    "collapsed": false
   },
   "outputs": [
    {
     "data": {
      "text/html": [
       "<div>\n",
       "<style scoped>\n",
       "    .dataframe tbody tr th:only-of-type {\n",
       "        vertical-align: middle;\n",
       "    }\n",
       "\n",
       "    .dataframe tbody tr th {\n",
       "        vertical-align: top;\n",
       "    }\n",
       "\n",
       "    .dataframe thead th {\n",
       "        text-align: right;\n",
       "    }\n",
       "</style>\n",
       "<table border=\"1\" class=\"dataframe\">\n",
       "  <thead>\n",
       "    <tr style=\"text-align: right;\">\n",
       "      <th></th>\n",
       "      <th>chr</th>\n",
       "      <th>start</th>\n",
       "      <th>end</th>\n",
       "      <th>seq</th>\n",
       "      <th>col</th>\n",
       "      <th>strand</th>\n",
       "    </tr>\n",
       "  </thead>\n",
       "  <tbody>\n",
       "    <tr>\n",
       "      <th>0</th>\n",
       "      <td>chr1</td>\n",
       "      <td>904296</td>\n",
       "      <td>904299</td>\n",
       "      <td>GGGTGGGGGGGTGGGGGGCGGCATCGGG</td>\n",
       "      <td>1111</td>\n",
       "      <td>+</td>\n",
       "    </tr>\n",
       "    <tr>\n",
       "      <th>1</th>\n",
       "      <td>chr1</td>\n",
       "      <td>937401</td>\n",
       "      <td>937411</td>\n",
       "      <td>CCCCCCCCCCCACCC</td>\n",
       "      <td>1111</td>\n",
       "      <td>-</td>\n",
       "    </tr>\n",
       "    <tr>\n",
       "      <th>2</th>\n",
       "      <td>chr1</td>\n",
       "      <td>955891</td>\n",
       "      <td>955916</td>\n",
       "      <td>CCCTACCCCCCTTCACCCCCTCCCC</td>\n",
       "      <td>1111</td>\n",
       "      <td>-</td>\n",
       "    </tr>\n",
       "    <tr>\n",
       "      <th>3</th>\n",
       "      <td>chr1</td>\n",
       "      <td>984237</td>\n",
       "      <td>984268</td>\n",
       "      <td>GGGCCTGGGGGGCAAGTCGGGGGGCGGGGGG</td>\n",
       "      <td>1111</td>\n",
       "      <td>+</td>\n",
       "    </tr>\n",
       "    <tr>\n",
       "      <th>4</th>\n",
       "      <td>chr1</td>\n",
       "      <td>984273</td>\n",
       "      <td>984299</td>\n",
       "      <td>GGGCAGGGTCCCCTGGGAGGATGGGG</td>\n",
       "      <td>1111</td>\n",
       "      <td>+</td>\n",
       "    </tr>\n",
       "  </tbody>\n",
       "</table>\n",
       "</div>"
      ],
      "text/plain": [
       "<div>\n",
       "<style scoped>\n",
       "    .dataframe tbody tr th:only-of-type {\n",
       "        vertical-align: middle;\n",
       "    }\n",
       "\n",
       "    .dataframe tbody tr th {\n",
       "        vertical-align: top;\n",
       "    }\n",
       "\n",
       "    .dataframe thead th {\n",
       "        text-align: right;\n",
       "    }\n",
       "</style>\n",
       "<table border=\"1\" class=\"dataframe\">\n",
       "  <thead>\n",
       "    <tr style=\"text-align: right;\">\n",
       "      <th></th>\n",
       "      <th>chr</th>\n",
       "      <th>start</th>\n",
       "      <th>end</th>\n",
       "      <th>seq</th>\n",
       "      <th>col</th>\n",
       "      <th>strand</th>\n",
       "    </tr>\n",
       "  </thead>\n",
       "  <tbody>\n",
       "    <tr>\n",
       "      <th>0</th>\n",
       "      <td>chr1</td>\n",
       "      <td>904296</td>\n",
       "      <td>904299</td>\n",
       "      <td>GGGTGGGGGGGTGGGGGGCGGCATCGGG</td>\n",
       "      <td>1111</td>\n",
       "      <td>+</td>\n",
       "    </tr>\n",
       "    <tr>\n",
       "      <th>1</th>\n",
       "      <td>chr1</td>\n",
       "      <td>937401</td>\n",
       "      <td>937411</td>\n",
       "      <td>CCCCCCCCCCCACCC</td>\n",
       "      <td>1111</td>\n",
       "      <td>-</td>\n",
       "    </tr>\n",
       "    <tr>\n",
       "      <th>2</th>\n",
       "      <td>chr1</td>\n",
       "      <td>955891</td>\n",
       "      <td>955916</td>\n",
       "      <td>CCCTACCCCCCTTCACCCCCTCCCC</td>\n",
       "      <td>1111</td>\n",
       "      <td>-</td>\n",
       "    </tr>\n",
       "    <tr>\n",
       "      <th>3</th>\n",
       "      <td>chr1</td>\n",
       "      <td>984237</td>\n",
       "      <td>984268</td>\n",
       "      <td>GGGCCTGGGGGGCAAGTCGGGGGGCGGGGGG</td>\n",
       "      <td>1111</td>\n",
       "      <td>+</td>\n",
       "    </tr>\n",
       "    <tr>\n",
       "      <th>4</th>\n",
       "      <td>chr1</td>\n",
       "      <td>984273</td>\n",
       "      <td>984299</td>\n",
       "      <td>GGGCAGGGTCCCCTGGGAGGATGGGG</td>\n",
       "      <td>1111</td>\n",
       "      <td>+</td>\n",
       "    </tr>\n",
       "  </tbody>\n",
       "</table>\n",
       "</div>"
      ]
     },
     "execution_count": 6,
     "metadata": {},
     "output_type": "execute_result"
    }
   ],
   "source": [
    "negative = pd.read_csv(\"data/g_quad_NovaSeq_SSEs_50bp_clean.bed\", delimiter=\"\\t\", names=[\"chr\", \"start\", \"end\",\n",
    "                                                                                     \"seq\", \"col\", \"strand\"])\n",
    "negative.head()\n"
   ]
  },
  {
   "cell_type": "code",
   "execution_count": 7,
   "metadata": {
    "collapsed": false
   },
   "outputs": [],
   "source": [
    "def verify_data(df):\n",
    "    wrong_data = []\n",
    "    good_data = []\n",
    "    \n",
    "    def filter_wrong_and_good_data(row):\n",
    "        diff = row[\"end\"] - row[\"start\"]\n",
    "        if diff is not len(row[\"seq\"]):\n",
    "            wrong_data.append(row.name)\n",
    "        else:\n",
    "            good_data.append(row.name)\n",
    "    \n",
    "    df.apply(filter_wrong_and_good_data, axis = 1)\n",
    "    \n",
    "    return wrong_data, good_data\n"
   ]
  },
  {
   "cell_type": "code",
   "execution_count": 8,
   "metadata": {
    "collapsed": false
   },
   "outputs": [
    {
     "data": {
      "text/plain": [
       "(4085, 11804)"
      ]
     },
     "execution_count": 8,
     "metadata": {},
     "output_type": "execute_result"
    }
   ],
   "source": [
    "(len(verify_data(negative)[0]), len(verify_data(negative)[1]))\n"
   ]
  },
  {
   "cell_type": "code",
   "execution_count": 9,
   "metadata": {
    "collapsed": false
   },
   "outputs": [
    {
     "data": {
      "text/html": [
       "<div>\n",
       "<style scoped>\n",
       "    .dataframe tbody tr th:only-of-type {\n",
       "        vertical-align: middle;\n",
       "    }\n",
       "\n",
       "    .dataframe tbody tr th {\n",
       "        vertical-align: top;\n",
       "    }\n",
       "\n",
       "    .dataframe thead th {\n",
       "        text-align: right;\n",
       "    }\n",
       "</style>\n",
       "<table border=\"1\" class=\"dataframe\">\n",
       "  <thead>\n",
       "    <tr style=\"text-align: right;\">\n",
       "      <th></th>\n",
       "      <th>chr</th>\n",
       "      <th>start</th>\n",
       "      <th>end</th>\n",
       "      <th>seq</th>\n",
       "      <th>col</th>\n",
       "      <th>strand</th>\n",
       "    </tr>\n",
       "  </thead>\n",
       "  <tbody>\n",
       "    <tr>\n",
       "      <th>2</th>\n",
       "      <td>chr1</td>\n",
       "      <td>955891</td>\n",
       "      <td>955916</td>\n",
       "      <td>CCCTACCCCCCTTCACCCCCTCCCC</td>\n",
       "      <td>1111</td>\n",
       "      <td>-</td>\n",
       "    </tr>\n",
       "    <tr>\n",
       "      <th>3</th>\n",
       "      <td>chr1</td>\n",
       "      <td>984237</td>\n",
       "      <td>984268</td>\n",
       "      <td>GGGCCTGGGGGGCAAGTCGGGGGGCGGGGGG</td>\n",
       "      <td>1111</td>\n",
       "      <td>+</td>\n",
       "    </tr>\n",
       "    <tr>\n",
       "      <th>4</th>\n",
       "      <td>chr1</td>\n",
       "      <td>984273</td>\n",
       "      <td>984299</td>\n",
       "      <td>GGGCAGGGTCCCCTGGGAGGATGGGG</td>\n",
       "      <td>1111</td>\n",
       "      <td>+</td>\n",
       "    </tr>\n",
       "    <tr>\n",
       "      <th>6</th>\n",
       "      <td>chr1</td>\n",
       "      <td>1035169</td>\n",
       "      <td>1035192</td>\n",
       "      <td>GGGGGGGGGGGGGTGGGCAGGGG</td>\n",
       "      <td>1111</td>\n",
       "      <td>+</td>\n",
       "    </tr>\n",
       "    <tr>\n",
       "      <th>7</th>\n",
       "      <td>chr1</td>\n",
       "      <td>1035208</td>\n",
       "      <td>1035229</td>\n",
       "      <td>GGGCAAAGGGATGGGACAGGG</td>\n",
       "      <td>1111</td>\n",
       "      <td>+</td>\n",
       "    </tr>\n",
       "  </tbody>\n",
       "</table>\n",
       "</div>"
      ],
      "text/plain": [
       "<div>\n",
       "<style scoped>\n",
       "    .dataframe tbody tr th:only-of-type {\n",
       "        vertical-align: middle;\n",
       "    }\n",
       "\n",
       "    .dataframe tbody tr th {\n",
       "        vertical-align: top;\n",
       "    }\n",
       "\n",
       "    .dataframe thead th {\n",
       "        text-align: right;\n",
       "    }\n",
       "</style>\n",
       "<table border=\"1\" class=\"dataframe\">\n",
       "  <thead>\n",
       "    <tr style=\"text-align: right;\">\n",
       "      <th></th>\n",
       "      <th>chr</th>\n",
       "      <th>start</th>\n",
       "      <th>end</th>\n",
       "      <th>seq</th>\n",
       "      <th>col</th>\n",
       "      <th>strand</th>\n",
       "    </tr>\n",
       "  </thead>\n",
       "  <tbody>\n",
       "    <tr>\n",
       "      <th>2</th>\n",
       "      <td>chr1</td>\n",
       "      <td>955891</td>\n",
       "      <td>955916</td>\n",
       "      <td>CCCTACCCCCCTTCACCCCCTCCCC</td>\n",
       "      <td>1111</td>\n",
       "      <td>-</td>\n",
       "    </tr>\n",
       "    <tr>\n",
       "      <th>3</th>\n",
       "      <td>chr1</td>\n",
       "      <td>984237</td>\n",
       "      <td>984268</td>\n",
       "      <td>GGGCCTGGGGGGCAAGTCGGGGGGCGGGGGG</td>\n",
       "      <td>1111</td>\n",
       "      <td>+</td>\n",
       "    </tr>\n",
       "    <tr>\n",
       "      <th>4</th>\n",
       "      <td>chr1</td>\n",
       "      <td>984273</td>\n",
       "      <td>984299</td>\n",
       "      <td>GGGCAGGGTCCCCTGGGAGGATGGGG</td>\n",
       "      <td>1111</td>\n",
       "      <td>+</td>\n",
       "    </tr>\n",
       "    <tr>\n",
       "      <th>6</th>\n",
       "      <td>chr1</td>\n",
       "      <td>1035169</td>\n",
       "      <td>1035192</td>\n",
       "      <td>GGGGGGGGGGGGGTGGGCAGGGG</td>\n",
       "      <td>1111</td>\n",
       "      <td>+</td>\n",
       "    </tr>\n",
       "    <tr>\n",
       "      <th>7</th>\n",
       "      <td>chr1</td>\n",
       "      <td>1035208</td>\n",
       "      <td>1035229</td>\n",
       "      <td>GGGCAAAGGGATGGGACAGGG</td>\n",
       "      <td>1111</td>\n",
       "      <td>+</td>\n",
       "    </tr>\n",
       "  </tbody>\n",
       "</table>\n",
       "</div>"
      ]
     },
     "execution_count": 9,
     "metadata": {},
     "output_type": "execute_result"
    }
   ],
   "source": [
    "negative_good_data = negative.drop(verify_data(negative)[0])\n",
    "negative_good_data.head()\n"
   ]
  },
  {
   "cell_type": "code",
   "execution_count": 12,
   "metadata": {
    "collapsed": false
   },
   "outputs": [
    {
     "data": {
      "text/plain": [
       "(12285, 154544)"
      ]
     },
     "execution_count": 12,
     "metadata": {},
     "output_type": "execute_result"
    }
   ],
   "source": [
    "(len(verify_data(positive)[0]), len(verify_data(positive)[1]))\n",
    "\n"
   ]
  },
  {
   "cell_type": "code",
   "execution_count": 14,
   "metadata": {
    "collapsed": false
   },
   "outputs": [
    {
     "data": {
      "text/html": [
       "<div>\n",
       "<style scoped>\n",
       "    .dataframe tbody tr th:only-of-type {\n",
       "        vertical-align: middle;\n",
       "    }\n",
       "\n",
       "    .dataframe tbody tr th {\n",
       "        vertical-align: top;\n",
       "    }\n",
       "\n",
       "    .dataframe thead th {\n",
       "        text-align: right;\n",
       "    }\n",
       "</style>\n",
       "<table border=\"1\" class=\"dataframe\">\n",
       "  <thead>\n",
       "    <tr style=\"text-align: right;\">\n",
       "      <th></th>\n",
       "      <th>chr</th>\n",
       "      <th>start</th>\n",
       "      <th>end</th>\n",
       "      <th>seq</th>\n",
       "      <th>col</th>\n",
       "      <th>strand</th>\n",
       "    </tr>\n",
       "  </thead>\n",
       "  <tbody>\n",
       "    <tr>\n",
       "      <th>3</th>\n",
       "      <td>chr1</td>\n",
       "      <td>835046</td>\n",
       "      <td>835069</td>\n",
       "      <td>CCCTCTCCCTTGCCTCCCTCCCC</td>\n",
       "      <td>1111</td>\n",
       "      <td>-</td>\n",
       "    </tr>\n",
       "    <tr>\n",
       "      <th>11</th>\n",
       "      <td>chr1</td>\n",
       "      <td>876250</td>\n",
       "      <td>876281</td>\n",
       "      <td>CCCACACTCGCCCACACTCCCCCACACTCCC</td>\n",
       "      <td>1111</td>\n",
       "      <td>-</td>\n",
       "    </tr>\n",
       "    <tr>\n",
       "      <th>17</th>\n",
       "      <td>chr1</td>\n",
       "      <td>902899</td>\n",
       "      <td>902925</td>\n",
       "      <td>GGGGACGAGGGGGCCCGGGATGCGGG</td>\n",
       "      <td>1111</td>\n",
       "      <td>+</td>\n",
       "    </tr>\n",
       "    <tr>\n",
       "      <th>18</th>\n",
       "      <td>chr1</td>\n",
       "      <td>904022</td>\n",
       "      <td>904047</td>\n",
       "      <td>CCCCTGCAGACCCTGTGCCCAGCCC</td>\n",
       "      <td>1111</td>\n",
       "      <td>-</td>\n",
       "    </tr>\n",
       "    <tr>\n",
       "      <th>19</th>\n",
       "      <td>chr1</td>\n",
       "      <td>904114</td>\n",
       "      <td>904140</td>\n",
       "      <td>GGGAGGCCTGGGGCGGAGGGCCGGGG</td>\n",
       "      <td>1111</td>\n",
       "      <td>+</td>\n",
       "    </tr>\n",
       "  </tbody>\n",
       "</table>\n",
       "</div>"
      ],
      "text/plain": [
       "<div>\n",
       "<style scoped>\n",
       "    .dataframe tbody tr th:only-of-type {\n",
       "        vertical-align: middle;\n",
       "    }\n",
       "\n",
       "    .dataframe tbody tr th {\n",
       "        vertical-align: top;\n",
       "    }\n",
       "\n",
       "    .dataframe thead th {\n",
       "        text-align: right;\n",
       "    }\n",
       "</style>\n",
       "<table border=\"1\" class=\"dataframe\">\n",
       "  <thead>\n",
       "    <tr style=\"text-align: right;\">\n",
       "      <th></th>\n",
       "      <th>chr</th>\n",
       "      <th>start</th>\n",
       "      <th>end</th>\n",
       "      <th>seq</th>\n",
       "      <th>col</th>\n",
       "      <th>strand</th>\n",
       "    </tr>\n",
       "  </thead>\n",
       "  <tbody>\n",
       "    <tr>\n",
       "      <th>3</th>\n",
       "      <td>chr1</td>\n",
       "      <td>835046</td>\n",
       "      <td>835069</td>\n",
       "      <td>CCCTCTCCCTTGCCTCCCTCCCC</td>\n",
       "      <td>1111</td>\n",
       "      <td>-</td>\n",
       "    </tr>\n",
       "    <tr>\n",
       "      <th>11</th>\n",
       "      <td>chr1</td>\n",
       "      <td>876250</td>\n",
       "      <td>876281</td>\n",
       "      <td>CCCACACTCGCCCACACTCCCCCACACTCCC</td>\n",
       "      <td>1111</td>\n",
       "      <td>-</td>\n",
       "    </tr>\n",
       "    <tr>\n",
       "      <th>17</th>\n",
       "      <td>chr1</td>\n",
       "      <td>902899</td>\n",
       "      <td>902925</td>\n",
       "      <td>GGGGACGAGGGGGCCCGGGATGCGGG</td>\n",
       "      <td>1111</td>\n",
       "      <td>+</td>\n",
       "    </tr>\n",
       "    <tr>\n",
       "      <th>18</th>\n",
       "      <td>chr1</td>\n",
       "      <td>904022</td>\n",
       "      <td>904047</td>\n",
       "      <td>CCCCTGCAGACCCTGTGCCCAGCCC</td>\n",
       "      <td>1111</td>\n",
       "      <td>-</td>\n",
       "    </tr>\n",
       "    <tr>\n",
       "      <th>19</th>\n",
       "      <td>chr1</td>\n",
       "      <td>904114</td>\n",
       "      <td>904140</td>\n",
       "      <td>GGGAGGCCTGGGGCGGAGGGCCGGGG</td>\n",
       "      <td>1111</td>\n",
       "      <td>+</td>\n",
       "    </tr>\n",
       "  </tbody>\n",
       "</table>\n",
       "</div>"
      ]
     },
     "execution_count": 14,
     "metadata": {},
     "output_type": "execute_result"
    }
   ],
   "source": [
    "\n",
    "positive_good_data = positive.drop(verify_data(positive)[0])\n",
    "positive_good_data.head()\n"
   ]
  },
  {
   "cell_type": "code",
   "execution_count": 15,
   "metadata": {},
   "outputs": [],
   "source": [
    "def get_window_start(row):\n",
    "    seq = row[\"seq\"]\n",
    "    length = len(seq)\n",
    "    result = row[\"start\"] - 200\n",
    "    middle = length // 2\n",
    "    result += middle\n",
    "    return result\n",
    "\n",
    "\n",
    "def get_window_end(row):\n",
    "    seq = row[\"seq\"]\n",
    "    length = len(seq)\n",
    "    result = row[\"end\"] + 200\n",
    "    middle = length / 2\n",
    "    if length % 2 == 0:\n",
    "        result -= middle\n",
    "    else:\n",
    "        result -= math.ceil(middle)  \n",
    "    return int(result)\n",
    "    \n",
    "    \n",
    "def get_ranges(df):\n",
    "        \n",
    "    df[\"start_new\"] = df.apply(get_window_start, axis=1)\n",
    "    df[\"end_new\"] = df.apply(get_window_end, axis=1)\n",
    "    \n",
    "    return df\n"
   ]
  },
  {
   "cell_type": "code",
   "execution_count": 17,
   "metadata": {},
   "outputs": [
    {
     "data": {
      "text/html": [
       "<div>\n",
       "<style scoped>\n",
       "    .dataframe tbody tr th:only-of-type {\n",
       "        vertical-align: middle;\n",
       "    }\n",
       "\n",
       "    .dataframe tbody tr th {\n",
       "        vertical-align: top;\n",
       "    }\n",
       "\n",
       "    .dataframe thead th {\n",
       "        text-align: right;\n",
       "    }\n",
       "</style>\n",
       "<table border=\"1\" class=\"dataframe\">\n",
       "  <thead>\n",
       "    <tr style=\"text-align: right;\">\n",
       "      <th></th>\n",
       "      <th>chr</th>\n",
       "      <th>start</th>\n",
       "      <th>end</th>\n",
       "      <th>seq</th>\n",
       "      <th>col</th>\n",
       "      <th>strand</th>\n",
       "      <th>start_new</th>\n",
       "      <th>end_new</th>\n",
       "    </tr>\n",
       "  </thead>\n",
       "  <tbody>\n",
       "    <tr>\n",
       "      <th>3</th>\n",
       "      <td>chr1</td>\n",
       "      <td>835046</td>\n",
       "      <td>835069</td>\n",
       "      <td>CCCTCTCCCTTGCCTCCCTCCCC</td>\n",
       "      <td>1111</td>\n",
       "      <td>-</td>\n",
       "      <td>834857</td>\n",
       "      <td>835257</td>\n",
       "    </tr>\n",
       "    <tr>\n",
       "      <th>11</th>\n",
       "      <td>chr1</td>\n",
       "      <td>876250</td>\n",
       "      <td>876281</td>\n",
       "      <td>CCCACACTCGCCCACACTCCCCCACACTCCC</td>\n",
       "      <td>1111</td>\n",
       "      <td>-</td>\n",
       "      <td>876065</td>\n",
       "      <td>876465</td>\n",
       "    </tr>\n",
       "    <tr>\n",
       "      <th>17</th>\n",
       "      <td>chr1</td>\n",
       "      <td>902899</td>\n",
       "      <td>902925</td>\n",
       "      <td>GGGGACGAGGGGGCCCGGGATGCGGG</td>\n",
       "      <td>1111</td>\n",
       "      <td>+</td>\n",
       "      <td>902712</td>\n",
       "      <td>903112</td>\n",
       "    </tr>\n",
       "    <tr>\n",
       "      <th>18</th>\n",
       "      <td>chr1</td>\n",
       "      <td>904022</td>\n",
       "      <td>904047</td>\n",
       "      <td>CCCCTGCAGACCCTGTGCCCAGCCC</td>\n",
       "      <td>1111</td>\n",
       "      <td>-</td>\n",
       "      <td>903834</td>\n",
       "      <td>904234</td>\n",
       "    </tr>\n",
       "    <tr>\n",
       "      <th>19</th>\n",
       "      <td>chr1</td>\n",
       "      <td>904114</td>\n",
       "      <td>904140</td>\n",
       "      <td>GGGAGGCCTGGGGCGGAGGGCCGGGG</td>\n",
       "      <td>1111</td>\n",
       "      <td>+</td>\n",
       "      <td>903927</td>\n",
       "      <td>904327</td>\n",
       "    </tr>\n",
       "  </tbody>\n",
       "</table>\n",
       "</div>"
      ],
      "text/plain": [
       "<div>\n",
       "<style scoped>\n",
       "    .dataframe tbody tr th:only-of-type {\n",
       "        vertical-align: middle;\n",
       "    }\n",
       "\n",
       "    .dataframe tbody tr th {\n",
       "        vertical-align: top;\n",
       "    }\n",
       "\n",
       "    .dataframe thead th {\n",
       "        text-align: right;\n",
       "    }\n",
       "</style>\n",
       "<table border=\"1\" class=\"dataframe\">\n",
       "  <thead>\n",
       "    <tr style=\"text-align: right;\">\n",
       "      <th></th>\n",
       "      <th>chr</th>\n",
       "      <th>start</th>\n",
       "      <th>end</th>\n",
       "      <th>seq</th>\n",
       "      <th>col</th>\n",
       "      <th>strand</th>\n",
       "      <th>start_new</th>\n",
       "      <th>end_new</th>\n",
       "    </tr>\n",
       "  </thead>\n",
       "  <tbody>\n",
       "    <tr>\n",
       "      <th>3</th>\n",
       "      <td>chr1</td>\n",
       "      <td>835046</td>\n",
       "      <td>835069</td>\n",
       "      <td>CCCTCTCCCTTGCCTCCCTCCCC</td>\n",
       "      <td>1111</td>\n",
       "      <td>-</td>\n",
       "      <td>834857</td>\n",
       "      <td>835257</td>\n",
       "    </tr>\n",
       "    <tr>\n",
       "      <th>11</th>\n",
       "      <td>chr1</td>\n",
       "      <td>876250</td>\n",
       "      <td>876281</td>\n",
       "      <td>CCCACACTCGCCCACACTCCCCCACACTCCC</td>\n",
       "      <td>1111</td>\n",
       "      <td>-</td>\n",
       "      <td>876065</td>\n",
       "      <td>876465</td>\n",
       "    </tr>\n",
       "    <tr>\n",
       "      <th>17</th>\n",
       "      <td>chr1</td>\n",
       "      <td>902899</td>\n",
       "      <td>902925</td>\n",
       "      <td>GGGGACGAGGGGGCCCGGGATGCGGG</td>\n",
       "      <td>1111</td>\n",
       "      <td>+</td>\n",
       "      <td>902712</td>\n",
       "      <td>903112</td>\n",
       "    </tr>\n",
       "    <tr>\n",
       "      <th>18</th>\n",
       "      <td>chr1</td>\n",
       "      <td>904022</td>\n",
       "      <td>904047</td>\n",
       "      <td>CCCCTGCAGACCCTGTGCCCAGCCC</td>\n",
       "      <td>1111</td>\n",
       "      <td>-</td>\n",
       "      <td>903834</td>\n",
       "      <td>904234</td>\n",
       "    </tr>\n",
       "    <tr>\n",
       "      <th>19</th>\n",
       "      <td>chr1</td>\n",
       "      <td>904114</td>\n",
       "      <td>904140</td>\n",
       "      <td>GGGAGGCCTGGGGCGGAGGGCCGGGG</td>\n",
       "      <td>1111</td>\n",
       "      <td>+</td>\n",
       "      <td>903927</td>\n",
       "      <td>904327</td>\n",
       "    </tr>\n",
       "  </tbody>\n",
       "</table>\n",
       "</div>"
      ]
     },
     "execution_count": 17,
     "metadata": {},
     "output_type": "execute_result"
    }
   ],
   "source": [
    "positive_good_data_with_ranges = get_ranges(positive_good_data)\n",
    "positive_good_data_with_ranges.head()"
   ]
  },
  {
   "cell_type": "code",
   "execution_count": 18,
   "metadata": {},
   "outputs": [],
   "source": [
    "def check_data_consistent(df):\n",
    "    all_good = True\n",
    "    \n",
    "    def check(row):\n",
    "        nonlocal all_good \n",
    "        if (row[\"end_new\"] - row[\"start_new\"]) != 400:\n",
    "            all_good = False\n",
    "            print(\"{} is not ok\".format(row.name))\n",
    "    \n",
    "    df.apply(check, axis=1)\n",
    "    \n",
    "    if all_good:\n",
    "        print(\"all good\")\n",
    "    else:\n",
    "        print(\"wrong data\")\n"
   ]
  },
  {
   "cell_type": "code",
   "execution_count": 19,
   "metadata": {},
   "outputs": [
    {
     "name": "stdout",
     "output_type": "stream",
     "text": [
      "all good\n"
     ]
    }
   ],
   "source": [
    "check_data_consistent(positive_good_data_with_ranges)\n"
   ]
  },
  {
   "cell_type": "code",
   "execution_count": 20,
   "metadata": {},
   "outputs": [
    {
     "data": {
      "text/html": [
       "<div>\n",
       "<style scoped>\n",
       "    .dataframe tbody tr th:only-of-type {\n",
       "        vertical-align: middle;\n",
       "    }\n",
       "\n",
       "    .dataframe tbody tr th {\n",
       "        vertical-align: top;\n",
       "    }\n",
       "\n",
       "    .dataframe thead th {\n",
       "        text-align: right;\n",
       "    }\n",
       "</style>\n",
       "<table border=\"1\" class=\"dataframe\">\n",
       "  <thead>\n",
       "    <tr style=\"text-align: right;\">\n",
       "      <th></th>\n",
       "      <th>chr</th>\n",
       "      <th>start</th>\n",
       "      <th>end</th>\n",
       "      <th>seq</th>\n",
       "      <th>col</th>\n",
       "      <th>strand</th>\n",
       "      <th>start_new</th>\n",
       "      <th>end_new</th>\n",
       "    </tr>\n",
       "  </thead>\n",
       "  <tbody>\n",
       "    <tr>\n",
       "      <th>2</th>\n",
       "      <td>chr1</td>\n",
       "      <td>955891</td>\n",
       "      <td>955916</td>\n",
       "      <td>CCCTACCCCCCTTCACCCCCTCCCC</td>\n",
       "      <td>1111</td>\n",
       "      <td>-</td>\n",
       "      <td>955703</td>\n",
       "      <td>956103</td>\n",
       "    </tr>\n",
       "    <tr>\n",
       "      <th>3</th>\n",
       "      <td>chr1</td>\n",
       "      <td>984237</td>\n",
       "      <td>984268</td>\n",
       "      <td>GGGCCTGGGGGGCAAGTCGGGGGGCGGGGGG</td>\n",
       "      <td>1111</td>\n",
       "      <td>+</td>\n",
       "      <td>984052</td>\n",
       "      <td>984452</td>\n",
       "    </tr>\n",
       "    <tr>\n",
       "      <th>4</th>\n",
       "      <td>chr1</td>\n",
       "      <td>984273</td>\n",
       "      <td>984299</td>\n",
       "      <td>GGGCAGGGTCCCCTGGGAGGATGGGG</td>\n",
       "      <td>1111</td>\n",
       "      <td>+</td>\n",
       "      <td>984086</td>\n",
       "      <td>984486</td>\n",
       "    </tr>\n",
       "    <tr>\n",
       "      <th>6</th>\n",
       "      <td>chr1</td>\n",
       "      <td>1035169</td>\n",
       "      <td>1035192</td>\n",
       "      <td>GGGGGGGGGGGGGTGGGCAGGGG</td>\n",
       "      <td>1111</td>\n",
       "      <td>+</td>\n",
       "      <td>1034980</td>\n",
       "      <td>1035380</td>\n",
       "    </tr>\n",
       "    <tr>\n",
       "      <th>7</th>\n",
       "      <td>chr1</td>\n",
       "      <td>1035208</td>\n",
       "      <td>1035229</td>\n",
       "      <td>GGGCAAAGGGATGGGACAGGG</td>\n",
       "      <td>1111</td>\n",
       "      <td>+</td>\n",
       "      <td>1035018</td>\n",
       "      <td>1035418</td>\n",
       "    </tr>\n",
       "  </tbody>\n",
       "</table>\n",
       "</div>"
      ],
      "text/plain": [
       "<div>\n",
       "<style scoped>\n",
       "    .dataframe tbody tr th:only-of-type {\n",
       "        vertical-align: middle;\n",
       "    }\n",
       "\n",
       "    .dataframe tbody tr th {\n",
       "        vertical-align: top;\n",
       "    }\n",
       "\n",
       "    .dataframe thead th {\n",
       "        text-align: right;\n",
       "    }\n",
       "</style>\n",
       "<table border=\"1\" class=\"dataframe\">\n",
       "  <thead>\n",
       "    <tr style=\"text-align: right;\">\n",
       "      <th></th>\n",
       "      <th>chr</th>\n",
       "      <th>start</th>\n",
       "      <th>end</th>\n",
       "      <th>seq</th>\n",
       "      <th>col</th>\n",
       "      <th>strand</th>\n",
       "      <th>start_new</th>\n",
       "      <th>end_new</th>\n",
       "    </tr>\n",
       "  </thead>\n",
       "  <tbody>\n",
       "    <tr>\n",
       "      <th>2</th>\n",
       "      <td>chr1</td>\n",
       "      <td>955891</td>\n",
       "      <td>955916</td>\n",
       "      <td>CCCTACCCCCCTTCACCCCCTCCCC</td>\n",
       "      <td>1111</td>\n",
       "      <td>-</td>\n",
       "      <td>955703</td>\n",
       "      <td>956103</td>\n",
       "    </tr>\n",
       "    <tr>\n",
       "      <th>3</th>\n",
       "      <td>chr1</td>\n",
       "      <td>984237</td>\n",
       "      <td>984268</td>\n",
       "      <td>GGGCCTGGGGGGCAAGTCGGGGGGCGGGGGG</td>\n",
       "      <td>1111</td>\n",
       "      <td>+</td>\n",
       "      <td>984052</td>\n",
       "      <td>984452</td>\n",
       "    </tr>\n",
       "    <tr>\n",
       "      <th>4</th>\n",
       "      <td>chr1</td>\n",
       "      <td>984273</td>\n",
       "      <td>984299</td>\n",
       "      <td>GGGCAGGGTCCCCTGGGAGGATGGGG</td>\n",
       "      <td>1111</td>\n",
       "      <td>+</td>\n",
       "      <td>984086</td>\n",
       "      <td>984486</td>\n",
       "    </tr>\n",
       "    <tr>\n",
       "      <th>6</th>\n",
       "      <td>chr1</td>\n",
       "      <td>1035169</td>\n",
       "      <td>1035192</td>\n",
       "      <td>GGGGGGGGGGGGGTGGGCAGGGG</td>\n",
       "      <td>1111</td>\n",
       "      <td>+</td>\n",
       "      <td>1034980</td>\n",
       "      <td>1035380</td>\n",
       "    </tr>\n",
       "    <tr>\n",
       "      <th>7</th>\n",
       "      <td>chr1</td>\n",
       "      <td>1035208</td>\n",
       "      <td>1035229</td>\n",
       "      <td>GGGCAAAGGGATGGGACAGGG</td>\n",
       "      <td>1111</td>\n",
       "      <td>+</td>\n",
       "      <td>1035018</td>\n",
       "      <td>1035418</td>\n",
       "    </tr>\n",
       "  </tbody>\n",
       "</table>\n",
       "</div>"
      ]
     },
     "execution_count": 20,
     "metadata": {},
     "output_type": "execute_result"
    }
   ],
   "source": [
    "negative_good_data_with_ranges = get_ranges(negative_good_data)\n",
    "negative_good_data_with_ranges.head()\n"
   ]
  },
  {
   "cell_type": "code",
   "execution_count": 21,
   "metadata": {},
   "outputs": [
    {
     "name": "stdout",
     "output_type": "stream",
     "text": [
      "all good\n"
     ]
    }
   ],
   "source": [
    "check_data_consistent(negative_good_data_with_ranges)\n",
    "\n"
   ]
  },
  {
   "cell_type": "code",
   "execution_count": 23,
   "metadata": {},
   "outputs": [
    {
     "data": {
      "text/plain": [
       "2580"
      ]
     },
     "execution_count": 23,
     "metadata": {},
     "output_type": "execute_result"
    }
   ],
   "source": [
    "from Bio.Seq import Seq\n",
    "from Bio import SeqIO\n",
    "\n",
    "\n",
    "records = list(SeqIO.parse(\"./data/genome.fa\", \"fasta\"))\n",
    "len(records)\n",
    "\n"
   ]
  },
  {
   "cell_type": "code",
   "execution_count": 74,
   "metadata": {},
   "outputs": [],
   "source": [
    "def add_new_seq(df):\n",
    "    def new_seq(row):\n",
    "        return str(records[0].seq[row[\"start_new\"]: row[\"end_new\"]])\n",
    "        \n",
    "    df[\"seq_new\"] = df.apply(new_seq, axis=1)\n",
    "    \n",
    "    return df\n"
   ]
  },
  {
   "cell_type": "code",
   "execution_count": 75,
   "metadata": {},
   "outputs": [
    {
     "data": {
      "text/html": [
       "<div>\n",
       "<style scoped>\n",
       "    .dataframe tbody tr th:only-of-type {\n",
       "        vertical-align: middle;\n",
       "    }\n",
       "\n",
       "    .dataframe tbody tr th {\n",
       "        vertical-align: top;\n",
       "    }\n",
       "\n",
       "    .dataframe thead th {\n",
       "        text-align: right;\n",
       "    }\n",
       "</style>\n",
       "<table border=\"1\" class=\"dataframe\">\n",
       "  <thead>\n",
       "    <tr style=\"text-align: right;\">\n",
       "      <th></th>\n",
       "      <th>chr</th>\n",
       "      <th>start</th>\n",
       "      <th>end</th>\n",
       "      <th>seq</th>\n",
       "      <th>col</th>\n",
       "      <th>strand</th>\n",
       "      <th>start_new</th>\n",
       "      <th>end_new</th>\n",
       "      <th>seq_new</th>\n",
       "    </tr>\n",
       "  </thead>\n",
       "  <tbody>\n",
       "    <tr>\n",
       "      <th>2</th>\n",
       "      <td>chr1</td>\n",
       "      <td>955891</td>\n",
       "      <td>955916</td>\n",
       "      <td>CCCTACCCCCCTTCACCCCCTCCCC</td>\n",
       "      <td>1111</td>\n",
       "      <td>-</td>\n",
       "      <td>955703</td>\n",
       "      <td>956103</td>\n",
       "      <td>TCCCTTTTCAGGAAGGAAAGAAGGTGGGGCCGCTCCAACTGGCCCC...</td>\n",
       "    </tr>\n",
       "    <tr>\n",
       "      <th>3</th>\n",
       "      <td>chr1</td>\n",
       "      <td>984237</td>\n",
       "      <td>984268</td>\n",
       "      <td>GGGCCTGGGGGGCAAGTCGGGGGGCGGGGGG</td>\n",
       "      <td>1111</td>\n",
       "      <td>+</td>\n",
       "      <td>984052</td>\n",
       "      <td>984452</td>\n",
       "      <td>TGGAGTTGGCCTGAGGCTTCAGGGGAAGCCCTTCCCTGTATCCAGC...</td>\n",
       "    </tr>\n",
       "    <tr>\n",
       "      <th>4</th>\n",
       "      <td>chr1</td>\n",
       "      <td>984273</td>\n",
       "      <td>984299</td>\n",
       "      <td>GGGCAGGGTCCCCTGGGAGGATGGGG</td>\n",
       "      <td>1111</td>\n",
       "      <td>+</td>\n",
       "      <td>984086</td>\n",
       "      <td>984486</td>\n",
       "      <td>CCTGTATCCAGCCCAGTCATGACCCTTCCTGGTGGGAGGGTGGCTG...</td>\n",
       "    </tr>\n",
       "    <tr>\n",
       "      <th>6</th>\n",
       "      <td>chr1</td>\n",
       "      <td>1035169</td>\n",
       "      <td>1035192</td>\n",
       "      <td>GGGGGGGGGGGGGTGGGCAGGGG</td>\n",
       "      <td>1111</td>\n",
       "      <td>+</td>\n",
       "      <td>1034980</td>\n",
       "      <td>1035380</td>\n",
       "      <td>GCGGTGGACTCTTCCAGGGAAGGGGGTCCTGCCTGCACCCCTGTGG...</td>\n",
       "    </tr>\n",
       "    <tr>\n",
       "      <th>7</th>\n",
       "      <td>chr1</td>\n",
       "      <td>1035208</td>\n",
       "      <td>1035229</td>\n",
       "      <td>GGGCAAAGGGATGGGACAGGG</td>\n",
       "      <td>1111</td>\n",
       "      <td>+</td>\n",
       "      <td>1035018</td>\n",
       "      <td>1035418</td>\n",
       "      <td>CCCTGTGGCTGGGGCCCCATCTGACAGGGGTCAGGCCATGACTATT...</td>\n",
       "    </tr>\n",
       "  </tbody>\n",
       "</table>\n",
       "</div>"
      ],
      "text/plain": [
       "<div>\n",
       "<style scoped>\n",
       "    .dataframe tbody tr th:only-of-type {\n",
       "        vertical-align: middle;\n",
       "    }\n",
       "\n",
       "    .dataframe tbody tr th {\n",
       "        vertical-align: top;\n",
       "    }\n",
       "\n",
       "    .dataframe thead th {\n",
       "        text-align: right;\n",
       "    }\n",
       "</style>\n",
       "<table border=\"1\" class=\"dataframe\">\n",
       "  <thead>\n",
       "    <tr style=\"text-align: right;\">\n",
       "      <th></th>\n",
       "      <th>chr</th>\n",
       "      <th>start</th>\n",
       "      <th>end</th>\n",
       "      <th>seq</th>\n",
       "      <th>col</th>\n",
       "      <th>strand</th>\n",
       "      <th>start_new</th>\n",
       "      <th>end_new</th>\n",
       "      <th>seq_new</th>\n",
       "    </tr>\n",
       "  </thead>\n",
       "  <tbody>\n",
       "    <tr>\n",
       "      <th>2</th>\n",
       "      <td>chr1</td>\n",
       "      <td>955891</td>\n",
       "      <td>955916</td>\n",
       "      <td>CCCTACCCCCCTTCACCCCCTCCCC</td>\n",
       "      <td>1111</td>\n",
       "      <td>-</td>\n",
       "      <td>955703</td>\n",
       "      <td>956103</td>\n",
       "      <td>TCCCTTTTCAGGAAGGAAAGAAGGTGGGGCCGCTCCAACTGGCCCC...</td>\n",
       "    </tr>\n",
       "    <tr>\n",
       "      <th>3</th>\n",
       "      <td>chr1</td>\n",
       "      <td>984237</td>\n",
       "      <td>984268</td>\n",
       "      <td>GGGCCTGGGGGGCAAGTCGGGGGGCGGGGGG</td>\n",
       "      <td>1111</td>\n",
       "      <td>+</td>\n",
       "      <td>984052</td>\n",
       "      <td>984452</td>\n",
       "      <td>TGGAGTTGGCCTGAGGCTTCAGGGGAAGCCCTTCCCTGTATCCAGC...</td>\n",
       "    </tr>\n",
       "    <tr>\n",
       "      <th>4</th>\n",
       "      <td>chr1</td>\n",
       "      <td>984273</td>\n",
       "      <td>984299</td>\n",
       "      <td>GGGCAGGGTCCCCTGGGAGGATGGGG</td>\n",
       "      <td>1111</td>\n",
       "      <td>+</td>\n",
       "      <td>984086</td>\n",
       "      <td>984486</td>\n",
       "      <td>CCTGTATCCAGCCCAGTCATGACCCTTCCTGGTGGGAGGGTGGCTG...</td>\n",
       "    </tr>\n",
       "    <tr>\n",
       "      <th>6</th>\n",
       "      <td>chr1</td>\n",
       "      <td>1035169</td>\n",
       "      <td>1035192</td>\n",
       "      <td>GGGGGGGGGGGGGTGGGCAGGGG</td>\n",
       "      <td>1111</td>\n",
       "      <td>+</td>\n",
       "      <td>1034980</td>\n",
       "      <td>1035380</td>\n",
       "      <td>GCGGTGGACTCTTCCAGGGAAGGGGGTCCTGCCTGCACCCCTGTGG...</td>\n",
       "    </tr>\n",
       "    <tr>\n",
       "      <th>7</th>\n",
       "      <td>chr1</td>\n",
       "      <td>1035208</td>\n",
       "      <td>1035229</td>\n",
       "      <td>GGGCAAAGGGATGGGACAGGG</td>\n",
       "      <td>1111</td>\n",
       "      <td>+</td>\n",
       "      <td>1035018</td>\n",
       "      <td>1035418</td>\n",
       "      <td>CCCTGTGGCTGGGGCCCCATCTGACAGGGGTCAGGCCATGACTATT...</td>\n",
       "    </tr>\n",
       "  </tbody>\n",
       "</table>\n",
       "</div>"
      ]
     },
     "execution_count": 75,
     "metadata": {},
     "output_type": "execute_result"
    }
   ],
   "source": [
    "negative_with_seq = add_new_seq(negative_good_data_with_ranges)\n",
    "negative_with_seq.head()"
   ]
  },
  {
   "cell_type": "code",
   "execution_count": 77,
   "metadata": {},
   "outputs": [
    {
     "data": {
      "text/html": [
       "<div>\n",
       "<style scoped>\n",
       "    .dataframe tbody tr th:only-of-type {\n",
       "        vertical-align: middle;\n",
       "    }\n",
       "\n",
       "    .dataframe tbody tr th {\n",
       "        vertical-align: top;\n",
       "    }\n",
       "\n",
       "    .dataframe thead th {\n",
       "        text-align: right;\n",
       "    }\n",
       "</style>\n",
       "<table border=\"1\" class=\"dataframe\">\n",
       "  <thead>\n",
       "    <tr style=\"text-align: right;\">\n",
       "      <th></th>\n",
       "      <th>chr</th>\n",
       "      <th>start</th>\n",
       "      <th>end</th>\n",
       "      <th>seq</th>\n",
       "      <th>col</th>\n",
       "      <th>strand</th>\n",
       "      <th>start_</th>\n",
       "      <th>end_</th>\n",
       "      <th>start_new</th>\n",
       "      <th>end_new</th>\n",
       "      <th>seq_new</th>\n",
       "    </tr>\n",
       "  </thead>\n",
       "  <tbody>\n",
       "    <tr>\n",
       "      <th>3</th>\n",
       "      <td>chr1</td>\n",
       "      <td>835046</td>\n",
       "      <td>835069</td>\n",
       "      <td>CCCTCTCCCTTGCCTCCCTCCCC</td>\n",
       "      <td>1111</td>\n",
       "      <td>-</td>\n",
       "      <td>834857</td>\n",
       "      <td>835257</td>\n",
       "      <td>834857</td>\n",
       "      <td>835257</td>\n",
       "      <td>ATAACTAGATATACGAGTTTAAATAATTTTGTCAGAAACTGTTTCT...</td>\n",
       "    </tr>\n",
       "    <tr>\n",
       "      <th>11</th>\n",
       "      <td>chr1</td>\n",
       "      <td>876250</td>\n",
       "      <td>876281</td>\n",
       "      <td>CCCACACTCGCCCACACTCCCCCACACTCCC</td>\n",
       "      <td>1111</td>\n",
       "      <td>-</td>\n",
       "      <td>876065</td>\n",
       "      <td>876465</td>\n",
       "      <td>876065</td>\n",
       "      <td>876465</td>\n",
       "      <td>CCCCACACTCCCCCATACTCGCCCACACTCCCCCACACCCCACACT...</td>\n",
       "    </tr>\n",
       "    <tr>\n",
       "      <th>17</th>\n",
       "      <td>chr1</td>\n",
       "      <td>902899</td>\n",
       "      <td>902925</td>\n",
       "      <td>GGGGACGAGGGGGCCCGGGATGCGGG</td>\n",
       "      <td>1111</td>\n",
       "      <td>+</td>\n",
       "      <td>902712</td>\n",
       "      <td>903112</td>\n",
       "      <td>902712</td>\n",
       "      <td>903112</td>\n",
       "      <td>GCAGTGAGCCGAGATCGCGCCATTGCACCCAGCCTGGGCAACCAGA...</td>\n",
       "    </tr>\n",
       "    <tr>\n",
       "      <th>18</th>\n",
       "      <td>chr1</td>\n",
       "      <td>904022</td>\n",
       "      <td>904047</td>\n",
       "      <td>CCCCTGCAGACCCTGTGCCCAGCCC</td>\n",
       "      <td>1111</td>\n",
       "      <td>-</td>\n",
       "      <td>903834</td>\n",
       "      <td>904234</td>\n",
       "      <td>903834</td>\n",
       "      <td>904234</td>\n",
       "      <td>GGCCCTGAGGCTGGGCAAGGCTGTCCACCCCGCTGTCAGAACCCCA...</td>\n",
       "    </tr>\n",
       "    <tr>\n",
       "      <th>19</th>\n",
       "      <td>chr1</td>\n",
       "      <td>904114</td>\n",
       "      <td>904140</td>\n",
       "      <td>GGGAGGCCTGGGGCGGAGGGCCGGGG</td>\n",
       "      <td>1111</td>\n",
       "      <td>+</td>\n",
       "      <td>903927</td>\n",
       "      <td>904327</td>\n",
       "      <td>903927</td>\n",
       "      <td>904327</td>\n",
       "      <td>CCAGCGGGCACAAGGTTGGGGCAGCTCTGTTCCCAGCAGGCCGAGC...</td>\n",
       "    </tr>\n",
       "  </tbody>\n",
       "</table>\n",
       "</div>"
      ],
      "text/plain": [
       "<div>\n",
       "<style scoped>\n",
       "    .dataframe tbody tr th:only-of-type {\n",
       "        vertical-align: middle;\n",
       "    }\n",
       "\n",
       "    .dataframe tbody tr th {\n",
       "        vertical-align: top;\n",
       "    }\n",
       "\n",
       "    .dataframe thead th {\n",
       "        text-align: right;\n",
       "    }\n",
       "</style>\n",
       "<table border=\"1\" class=\"dataframe\">\n",
       "  <thead>\n",
       "    <tr style=\"text-align: right;\">\n",
       "      <th></th>\n",
       "      <th>chr</th>\n",
       "      <th>start</th>\n",
       "      <th>end</th>\n",
       "      <th>seq</th>\n",
       "      <th>col</th>\n",
       "      <th>strand</th>\n",
       "      <th>start_</th>\n",
       "      <th>end_</th>\n",
       "      <th>start_new</th>\n",
       "      <th>end_new</th>\n",
       "      <th>seq_new</th>\n",
       "    </tr>\n",
       "  </thead>\n",
       "  <tbody>\n",
       "    <tr>\n",
       "      <th>3</th>\n",
       "      <td>chr1</td>\n",
       "      <td>835046</td>\n",
       "      <td>835069</td>\n",
       "      <td>CCCTCTCCCTTGCCTCCCTCCCC</td>\n",
       "      <td>1111</td>\n",
       "      <td>-</td>\n",
       "      <td>834857</td>\n",
       "      <td>835257</td>\n",
       "      <td>834857</td>\n",
       "      <td>835257</td>\n",
       "      <td>ATAACTAGATATACGAGTTTAAATAATTTTGTCAGAAACTGTTTCT...</td>\n",
       "    </tr>\n",
       "    <tr>\n",
       "      <th>11</th>\n",
       "      <td>chr1</td>\n",
       "      <td>876250</td>\n",
       "      <td>876281</td>\n",
       "      <td>CCCACACTCGCCCACACTCCCCCACACTCCC</td>\n",
       "      <td>1111</td>\n",
       "      <td>-</td>\n",
       "      <td>876065</td>\n",
       "      <td>876465</td>\n",
       "      <td>876065</td>\n",
       "      <td>876465</td>\n",
       "      <td>CCCCACACTCCCCCATACTCGCCCACACTCCCCCACACCCCACACT...</td>\n",
       "    </tr>\n",
       "    <tr>\n",
       "      <th>17</th>\n",
       "      <td>chr1</td>\n",
       "      <td>902899</td>\n",
       "      <td>902925</td>\n",
       "      <td>GGGGACGAGGGGGCCCGGGATGCGGG</td>\n",
       "      <td>1111</td>\n",
       "      <td>+</td>\n",
       "      <td>902712</td>\n",
       "      <td>903112</td>\n",
       "      <td>902712</td>\n",
       "      <td>903112</td>\n",
       "      <td>GCAGTGAGCCGAGATCGCGCCATTGCACCCAGCCTGGGCAACCAGA...</td>\n",
       "    </tr>\n",
       "    <tr>\n",
       "      <th>18</th>\n",
       "      <td>chr1</td>\n",
       "      <td>904022</td>\n",
       "      <td>904047</td>\n",
       "      <td>CCCCTGCAGACCCTGTGCCCAGCCC</td>\n",
       "      <td>1111</td>\n",
       "      <td>-</td>\n",
       "      <td>903834</td>\n",
       "      <td>904234</td>\n",
       "      <td>903834</td>\n",
       "      <td>904234</td>\n",
       "      <td>GGCCCTGAGGCTGGGCAAGGCTGTCCACCCCGCTGTCAGAACCCCA...</td>\n",
       "    </tr>\n",
       "    <tr>\n",
       "      <th>19</th>\n",
       "      <td>chr1</td>\n",
       "      <td>904114</td>\n",
       "      <td>904140</td>\n",
       "      <td>GGGAGGCCTGGGGCGGAGGGCCGGGG</td>\n",
       "      <td>1111</td>\n",
       "      <td>+</td>\n",
       "      <td>903927</td>\n",
       "      <td>904327</td>\n",
       "      <td>903927</td>\n",
       "      <td>904327</td>\n",
       "      <td>CCAGCGGGCACAAGGTTGGGGCAGCTCTGTTCCCAGCAGGCCGAGC...</td>\n",
       "    </tr>\n",
       "  </tbody>\n",
       "</table>\n",
       "</div>"
      ]
     },
     "execution_count": 77,
     "metadata": {},
     "output_type": "execute_result"
    }
   ],
   "source": [
    "positive_with_seq = add_new_seq(positive_good_data_with_ranges)\n",
    "positive_with_seq.head()"
   ]
  },
  {
   "cell_type": "code",
   "execution_count": 78,
   "metadata": {},
   "outputs": [],
   "source": [
    "negative_with_seq.to_csv(\"./data/negative_examples.csv\")\n",
    "positive_with_seq.to_csv(\"./data/positive_examples.csv\")"
   ]
  },
  {
   "cell_type": "code",
   "execution_count": 37,
   "metadata": {},
   "outputs": [],
   "source": [
    "negative_with_seq = pd.read_csv(\"./data/negative_examples.csv\")\n",
    "positive_with_seq = pd.read_csv(\"./data/positive_examples.csv\")"
   ]
  },
  {
   "cell_type": "code",
   "execution_count": 41,
   "metadata": {},
   "outputs": [
    {
     "data": {
      "text/plain": [
       "array([29926, 52855, 80304, ...,  4981, 85897, 19489])"
      ]
     },
     "execution_count": 41,
     "metadata": {},
     "output_type": "execute_result"
    }
   ],
   "source": [
    "from sklearn.preprocessing import OneHotEncoder\n",
    "from sklearn.preprocessing import LabelEncoder\n",
    "\n",
    "label_encoder = LabelEncoder()\n",
    "integer_encoded_seq_pos = label_encoder.fit_transform(positive_with_seq[\"seq_new\"])\n",
    "integer_encoded_seq_pos"
   ]
  },
  {
   "cell_type": "code",
   "execution_count": 43,
   "metadata": {},
   "outputs": [
    {
     "data": {
      "text/plain": [
       "array([[ 0.,  0.,  0., ...,  0.,  0.,  0.],\n       [ 0.,  0.,  0., ...,  0.,  0.,  0.],\n       [ 0.,  0.,  0., ...,  0.,  0.,  0.],\n       ..., \n       [ 0.,  0.,  0., ...,  0.,  0.,  0.],\n       [ 0.,  0.,  0., ...,  0.,  0.,  0.],\n       [ 0.,  0.,  0., ...,  0.,  0.,  0.]])"
      ]
     },
     "execution_count": 43,
     "metadata": {},
     "output_type": "execute_result"
    }
   ],
   "source": [
    "onehot_encoder_pos = OneHotEncoder(sparse=False)\n",
    "integer_encoded_seq_pos = integer_encoded_seq_pos.reshape(len(integer_encoded_seq_pos), 1)\n",
    "onehot_encoded_seq_pos = onehot_encoder_pos.fit_transform(integer_encoded_seq_pos)\n",
    "onehot_encoded_seq_pos"
   ]
  },
  {
   "cell_type": "code",
   "execution_count": 44,
   "metadata": {},
   "outputs": [],
   "source": [
    "# LabelEncoder takes categorical data, like country names and encodes them into integers: 0,1,2\n",
    "# but this can confuse the model by thinking that there is a mathematical relation 0 < 1\n",
    "# so we now use one hot encoder to transform the data into a bunch of 0 and 1. it will split the array into multiple arrays. "
   ]
  },
  {
   "cell_type": "code",
   "execution_count": 45,
   "metadata": {},
   "outputs": [
    {
     "data": {
      "text/plain": [
       "array([[ 0.,  0.,  0., ...,  0.,  0.,  0.],\n       [ 0.,  0.,  0., ...,  0.,  0.,  0.],\n       [ 0.,  0.,  0., ...,  0.,  0.,  0.],\n       ..., \n       [ 0.,  0.,  0., ...,  0.,  0.,  0.],\n       [ 0.,  0.,  0., ...,  0.,  0.,  0.],\n       [ 0.,  0.,  0., ...,  0.,  0.,  0.]])"
      ]
     },
     "execution_count": 45,
     "metadata": {},
     "output_type": "execute_result"
    }
   ],
   "source": [
    "integer_encoded_seq_neg = label_encoder.fit_transform(negative_with_seq[\"seq_new\"])\n",
    "onehot_encoder_neg = OneHotEncoder(sparse=False)\n",
    "integer_encoded_seq_neg = integer_encoded_seq_neg.reshape(len(integer_encoded_seq_neg), 1)\n",
    "onehot_encoded_seq_neg = onehot_encoder_neg.fit_transform(integer_encoded_seq_neg)\n",
    "onehot_encoded_seq_neg"
   ]
  },
  {
   "cell_type": "code",
   "execution_count": 48,
   "metadata": {},
   "outputs": [],
   "source": [
    "Y_pos = [1] * len(onehot_encoded_seq_pos)\n",
    "Y_neg = [0] * len(onehot_encoded_seq_neg)"
   ]
  },
  {
   "cell_type": "code",
   "execution_count": 49,
   "metadata": {},
   "outputs": [
    {
     "ename": "ValueError",
     "evalue": "all the input array dimensions except for the concatenation axis must match exactly",
     "traceback": [
      "\u001b[0;31m---------------------------------------------------------------------------\u001b[0m",
      "\u001b[0;31mValueError\u001b[0m                                Traceback (most recent call last)",
      "\u001b[0;32m<ipython-input-49-1244a3778623>\u001b[0m in \u001b[0;36m<module>\u001b[0;34m()\u001b[0m\n\u001b[0;32m----> 1\u001b[0;31m \u001b[0mfeatures\u001b[0m \u001b[0;34m=\u001b[0m \u001b[0mnp\u001b[0m\u001b[0;34m.\u001b[0m\u001b[0mconcatenate\u001b[0m\u001b[0;34m(\u001b[0m\u001b[0;34m(\u001b[0m\u001b[0monehot_encoded_seq_pos\u001b[0m\u001b[0;34m,\u001b[0m \u001b[0monehot_encoded_seq_neg\u001b[0m\u001b[0;34m)\u001b[0m\u001b[0;34m,\u001b[0m \u001b[0maxis\u001b[0m\u001b[0;34m=\u001b[0m\u001b[0;36m0\u001b[0m\u001b[0;34m)\u001b[0m\u001b[0;34m\u001b[0m\u001b[0m\n\u001b[0m\u001b[1;32m      2\u001b[0m \u001b[0mfeatures\u001b[0m\u001b[0;34m\u001b[0m\u001b[0m\n",
      "\u001b[0;31mValueError\u001b[0m: all the input array dimensions except for the concatenation axis must match exactly"
     ],
     "output_type": "error"
    }
   ],
   "source": [
    "features = np.concatenate((onehot_encoded_seq_pos, onehot_encoded_seq_neg), axis=0)\n",
    "features"
   ]
  },
  {
   "cell_type": "code",
   "execution_count": 51,
   "metadata": {},
   "outputs": [
    {
     "data": {
      "text/plain": [
       "(154544, 140723)"
      ]
     },
     "execution_count": 51,
     "metadata": {},
     "output_type": "execute_result"
    }
   ],
   "source": [
    "onehot_encoded_seq_pos.shape"
   ]
  },
  {
   "cell_type": "code",
   "execution_count": 52,
   "metadata": {},
   "outputs": [
    {
     "data": {
      "text/plain": [
       "(11804, 10825)"
      ]
     },
     "execution_count": 52,
     "metadata": {},
     "output_type": "execute_result"
    }
   ],
   "source": [
    "onehot_encoded_seq_neg.shape"
   ]
  },
  {
   "cell_type": "code",
   "execution_count": 56,
   "metadata": {},
   "outputs": [
    {
     "data": {
      "text/plain": [
       "(154544, 1)"
      ]
     },
     "execution_count": 56,
     "metadata": {},
     "output_type": "execute_result"
    }
   ],
   "source": [
    "integer_encoded_seq_pos.shape"
   ]
  },
  {
   "cell_type": "code",
   "execution_count": 71,
   "metadata": {},
   "outputs": [
    {
     "data": {
      "text/plain": [
       "(array([ 15218,  15223,  15224, ..., 153676, 153677, 153678]),)"
      ]
     },
     "execution_count": 71,
     "metadata": {},
     "output_type": "execute_result"
    }
   ],
   "source": [
    "n = positive_with_seq[\"seq_new\"].apply(lambda x: True if \"N\" in x else False)\n",
    "np.where(n == True)"
   ]
  },
  {
   "cell_type": "code",
   "execution_count": 72,
   "metadata": {},
   "outputs": [],
   "source": [
    "bases = dict(zip(\"ACGTN\", [[1,0,0,0,0],[0,1,0,0,0],[0,0,1,0,0],[0,0,0,1,0],[0,0,0,0,1]]))\n",
    "bases \n"
   ]
  },
  {
   "cell_type": "code",
   "execution_count": 76,
   "metadata": {},
   "outputs": [],
   "source": [
    "X_positive = []\n",
    "def encode(row):\n",
    "    result = []\n",
    "    for base in row:\n",
    "        result.append(bases[base])\n",
    "        \n",
    "    X_positive.append(result)\n",
    "positive_with_seq[\"seq_new\"].apply(encode)\n",
    "X_positive[0][0]"
   ]
  },
  {
   "cell_type": "code",
   "execution_count": 81,
   "metadata": {},
   "outputs": [
    {
     "data": {
      "text/plain": [
       "[0, 0, 0, 1, 0]"
      ]
     },
     "execution_count": 81,
     "metadata": {},
     "output_type": "execute_result"
    }
   ],
   "source": [
    "X_negative = []\n",
    "def encode_neg(row):\n",
    "    result = []\n",
    "    for base in row:\n",
    "        result.append(bases[base])\n",
    "        \n",
    "    X_negative.append(result)\n",
    "negative_with_seq[\"seq_new\"].apply(encode_neg)\n",
    "X_negative[0][0]"
   ]
  },
  {
   "cell_type": "code",
   "execution_count": 83,
   "metadata": {},
   "outputs": [
    {
     "data": {
      "text/plain": [
       "(166348, 400, 5)"
      ]
     },
     "execution_count": 83,
     "metadata": {},
     "output_type": "execute_result"
    }
   ],
   "source": [
    "features = np.concatenate((X_positive, X_negative), axis=0)\n",
    "features.shape"
   ]
  },
  {
   "cell_type": "code",
   "execution_count": 85,
   "metadata": {},
   "outputs": [
    {
     "data": {
      "text/plain": [
       "[[1, 0, 0, 0, 0], [0, 1, 0, 0, 0], [1, 0, 0, 0, 0], [0, 1, 0, 0, 0]]"
      ]
     },
     "execution_count": 85,
     "metadata": {},
     "output_type": "execute_result"
    }
   ],
   "source": [
    "d = [bases[\"A\"],bases[\"C\"]]\n",
    "e = [bases[\"A\"],bases[\"C\"], bases[\"A\"], bases[\"C\"]]\n",
    "e"
   ]
  },
  {
   "cell_type": "code",
   "execution_count": 86,
   "metadata": {},
   "outputs": [
    {
     "data": {
      "text/plain": [
       "array([[1, 0, 0, 0, 0],\n       [0, 1, 0, 0, 0],\n       [1, 0, 0, 0, 0],\n       [0, 1, 0, 0, 0],\n       [1, 0, 0, 0, 0],\n       [0, 1, 0, 0, 0]])"
      ]
     },
     "execution_count": 86,
     "metadata": {},
     "output_type": "execute_result"
    }
   ],
   "source": [
    "test_con = np.concatenate((d, e), axis=0)\n",
    "test_con"
   ]
  },
  {
   "cell_type": "code",
   "execution_count": 87,
   "metadata": {},
   "outputs": [
    {
     "data": {
      "text/plain": [
       "(6, 5)"
      ]
     },
     "execution_count": 87,
     "metadata": {},
     "output_type": "execute_result"
    }
   ],
   "source": [
    "test_con.shape"
   ]
  },
  {
   "cell_type": "code",
   "execution_count": 122,
   "metadata": {},
   "outputs": [],
   "source": [
    "Y_pos = [[1]] * len(X_positive)\n",
    "Y_neg = [[0]] * len(X_negative)"
   ]
  },
  {
   "cell_type": "code",
   "execution_count": 123,
   "metadata": {},
   "outputs": [],
   "source": [
    "labels = np.concatenate((Y_pos, Y_neg), axis=0)"
   ]
  },
  {
   "cell_type": "code",
   "execution_count": 124,
   "metadata": {},
   "outputs": [
    {
     "data": {
      "text/plain": [
       "(111453, 400, 5)"
      ]
     },
     "execution_count": 125,
     "metadata": {},
     "output_type": "execute_result"
    }
   ],
   "source": [
    "from sklearn import model_selection\n",
    "X_train, X_test, y_train, y_test = model_selection.train_test_split(features,\n",
    "                                                    labels,\n",
    "                                                    test_size=0.33,\n",
    "                                                    random_state=42)\n"
   ]
  },
  {
   "cell_type": "code",
   "execution_count": 125,
   "metadata": {},
   "outputs": [
    {
     "data": {
      "text/plain": [
       "(111453, 400, 5)"
      ]
     },
     "execution_count": 125,
     "metadata": {},
     "output_type": "execute_result"
    }
   ],
   "source": [
    "\n",
    "X_train.shape"
   ]
  },
  {
   "cell_type": "code",
   "execution_count": 2,
   "metadata": {
    "collapsed": false
   },
   "outputs": [
    {
     "ename": "NameError",
     "evalue": "name 'X_train' is not defined",
     "traceback": [
      "\u001b[0;31m---------------------------------------------------------------------------\u001b[0m",
      "\u001b[0;31mNameError\u001b[0m                                 Traceback (most recent call last)",
      "\u001b[0;32m<ipython-input-2-8ff925c7bd1f>\u001b[0m in \u001b[0;36m<module>\u001b[0;34m()\u001b[0m\n\u001b[1;32m      1\u001b[0m \u001b[0mplt\u001b[0m\u001b[0;34m.\u001b[0m\u001b[0mpyplot\u001b[0m\u001b[0;34m.\u001b[0m\u001b[0mfigure\u001b[0m\u001b[0;34m(\u001b[0m\u001b[0mfigsize\u001b[0m\u001b[0;34m=\u001b[0m\u001b[0;34m(\u001b[0m\u001b[0;36m5\u001b[0m\u001b[0;34m,\u001b[0m \u001b[0;36m2\u001b[0m\u001b[0;34m)\u001b[0m\u001b[0;34m)\u001b[0m\u001b[0;34m\u001b[0m\u001b[0m\n\u001b[0;32m----> 2\u001b[0;31m \u001b[0mplt\u001b[0m\u001b[0;34m.\u001b[0m\u001b[0mpyplot\u001b[0m\u001b[0;34m.\u001b[0m\u001b[0mmatshow\u001b[0m\u001b[0;34m(\u001b[0m\u001b[0mX_train\u001b[0m\u001b[0;34m[\u001b[0m\u001b[0;36m999\u001b[0m\u001b[0;34m,\u001b[0m\u001b[0;34m:\u001b[0m\u001b[0;34m,\u001b[0m\u001b[0;34m:\u001b[0m\u001b[0;34m,\u001b[0m\u001b[0;36m0\u001b[0m\u001b[0;34m]\u001b[0m\u001b[0;34m.\u001b[0m\u001b[0mtranspose\u001b[0m\u001b[0;34m(\u001b[0m\u001b[0;34m)\u001b[0m\u001b[0;34m,\u001b[0m \u001b[0mvmin\u001b[0m\u001b[0;34m=\u001b[0m\u001b[0;36m0\u001b[0m\u001b[0;34m,\u001b[0m \u001b[0mvmax\u001b[0m\u001b[0;34m=\u001b[0m\u001b[0;36m50\u001b[0m\u001b[0;34m,\u001b[0m \u001b[0mcmap\u001b[0m\u001b[0;34m=\u001b[0m\u001b[0mplt\u001b[0m\u001b[0;34m.\u001b[0m\u001b[0mpyplot\u001b[0m\u001b[0;34m.\u001b[0m\u001b[0mcm\u001b[0m\u001b[0;34m.\u001b[0m\u001b[0mcoolwarm\u001b[0m\u001b[0;34m,\u001b[0m \u001b[0mfignum\u001b[0m\u001b[0;34m=\u001b[0m\u001b[0;36m0\u001b[0m\u001b[0;34m)\u001b[0m\u001b[0;34m\u001b[0m\u001b[0m\n\u001b[0m",
      "\u001b[0;31mNameError\u001b[0m: name 'X_train' is not defined"
     ],
     "output_type": "error"
    },
    {
     "data": {
      "text/plain": [
       "<Figure size 360x144 with 0 Axes>"
      ]
     },
     "execution_count": 0,
     "metadata": {},
     "output_type": "execute_result"
    }
   ],
   "source": [
    "plt.pyplot.figure(figsize=(5, 2))\n",
    "plt.pyplot.matshow(X_train[999,:,:,0].transpose(), vmin=0, vmax=50, cmap=plt.pyplot.cm.coolwarm, fignum=0)\n"
   ]
  },
  {
   "cell_type": "code",
   "execution_count": null,
   "metadata": {},
   "outputs": [
    {
     "data": {
      "text/plain": [
       "TensorShape([Dimension(None), Dimension(400), Dimension(5)])"
      ]
     },
     "execution_count": 108,
     "metadata": {},
     "output_type": "execute_result"
    }
   ],
   "source": [
    ""
   ]
  },
  {
   "cell_type": "code",
   "execution_count": null,
   "metadata": {},
   "outputs": [
    {
     "data": {
      "text/plain": [
       "TensorShape([Dimension(50), Dimension(100)])"
      ]
     },
     "execution_count": 111,
     "metadata": {},
     "output_type": "execute_result"
    }
   ],
   "source": [
    ""
   ]
  },
  {
   "cell_type": "code",
   "execution_count": 1,
   "metadata": {},
   "outputs": [],
   "source": [
    ""
   ]
  },
  {
   "cell_type": "code",
   "execution_count": 1,
   "metadata": {},
   "outputs": [],
   "source": [
    "\n"
   ]
  },
  {
   "cell_type": "code",
   "execution_count": 1,
   "metadata": {},
   "outputs": [],
   "source": [
    ""
   ]
  },
  {
   "cell_type": "code",
   "execution_count": 1,
   "metadata": {},
   "outputs": [],
   "source": [
    ""
   ]
  },
  {
   "cell_type": "code",
   "execution_count": 121,
   "metadata": {},
   "outputs": [
    {
     "data": {
      "text/plain": [
       "[[1], [1], [1]]"
      ]
     },
     "execution_count": 121,
     "metadata": {},
     "output_type": "execute_result"
    }
   ],
   "source": [
    ""
   ]
  },
  {
   "cell_type": "code",
   "execution_count": 129,
   "metadata": {},
   "outputs": [
    {
     "ename": "FileNotFoundError",
     "evalue": "File b'sales_data_training.csv' does not exist",
     "traceback": [
      "\u001b[0;31m---------------------------------------------------------------------------\u001b[0m",
      "\u001b[0;31mFileNotFoundError\u001b[0m                         Traceback (most recent call last)",
      "\u001b[0;32m<ipython-input-129-be8a321433b1>\u001b[0m in \u001b[0;36m<module>\u001b[0;34m()\u001b[0m\n\u001b[1;32m      8\u001b[0m \u001b[0;34m\u001b[0m\u001b[0m\n\u001b[1;32m      9\u001b[0m \u001b[0;31m# Load training data set from CSV file\u001b[0m\u001b[0;34m\u001b[0m\u001b[0;34m\u001b[0m\u001b[0m\n\u001b[0;32m---> 10\u001b[0;31m \u001b[0mtraining_data_df\u001b[0m \u001b[0;34m=\u001b[0m \u001b[0mpd\u001b[0m\u001b[0;34m.\u001b[0m\u001b[0mread_csv\u001b[0m\u001b[0;34m(\u001b[0m\u001b[0;34m\"sales_data_training.csv\"\u001b[0m\u001b[0;34m,\u001b[0m \u001b[0mdtype\u001b[0m\u001b[0;34m=\u001b[0m\u001b[0mfloat\u001b[0m\u001b[0;34m)\u001b[0m\u001b[0;34m\u001b[0m\u001b[0m\n\u001b[0m\u001b[1;32m     11\u001b[0m \u001b[0;34m\u001b[0m\u001b[0m\n\u001b[1;32m     12\u001b[0m \u001b[0;31m# Pull out columns for X (data to train with) and Y (value to predict)\u001b[0m\u001b[0;34m\u001b[0m\u001b[0;34m\u001b[0m\u001b[0m\n",
      "\u001b[0;32m~/anaconda3/lib/python3.6/site-packages/pandas/io/parsers.py\u001b[0m in \u001b[0;36mparser_f\u001b[0;34m(filepath_or_buffer, sep, delimiter, header, names, index_col, usecols, squeeze, prefix, mangle_dupe_cols, dtype, engine, converters, true_values, false_values, skipinitialspace, skiprows, nrows, na_values, keep_default_na, na_filter, verbose, skip_blank_lines, parse_dates, infer_datetime_format, keep_date_col, date_parser, dayfirst, iterator, chunksize, compression, thousands, decimal, lineterminator, quotechar, quoting, escapechar, comment, encoding, dialect, tupleize_cols, error_bad_lines, warn_bad_lines, skipfooter, skip_footer, doublequote, delim_whitespace, as_recarray, compact_ints, use_unsigned, low_memory, buffer_lines, memory_map, float_precision)\u001b[0m\n\u001b[1;32m    653\u001b[0m                     skip_blank_lines=skip_blank_lines)\n\u001b[1;32m    654\u001b[0m \u001b[0;34m\u001b[0m\u001b[0m\n\u001b[0;32m--> 655\u001b[0;31m         \u001b[0;32mreturn\u001b[0m \u001b[0m_read\u001b[0m\u001b[0;34m(\u001b[0m\u001b[0mfilepath_or_buffer\u001b[0m\u001b[0;34m,\u001b[0m \u001b[0mkwds\u001b[0m\u001b[0;34m)\u001b[0m\u001b[0;34m\u001b[0m\u001b[0m\n\u001b[0m\u001b[1;32m    656\u001b[0m \u001b[0;34m\u001b[0m\u001b[0m\n\u001b[1;32m    657\u001b[0m     \u001b[0mparser_f\u001b[0m\u001b[0;34m.\u001b[0m\u001b[0m__name__\u001b[0m \u001b[0;34m=\u001b[0m \u001b[0mname\u001b[0m\u001b[0;34m\u001b[0m\u001b[0m\n",
      "\u001b[0;32m~/anaconda3/lib/python3.6/site-packages/pandas/io/parsers.py\u001b[0m in \u001b[0;36m_read\u001b[0;34m(filepath_or_buffer, kwds)\u001b[0m\n\u001b[1;32m    403\u001b[0m \u001b[0;34m\u001b[0m\u001b[0m\n\u001b[1;32m    404\u001b[0m     \u001b[0;31m# Create the parser.\u001b[0m\u001b[0;34m\u001b[0m\u001b[0;34m\u001b[0m\u001b[0m\n\u001b[0;32m--> 405\u001b[0;31m     \u001b[0mparser\u001b[0m \u001b[0;34m=\u001b[0m \u001b[0mTextFileReader\u001b[0m\u001b[0;34m(\u001b[0m\u001b[0mfilepath_or_buffer\u001b[0m\u001b[0;34m,\u001b[0m \u001b[0;34m**\u001b[0m\u001b[0mkwds\u001b[0m\u001b[0;34m)\u001b[0m\u001b[0;34m\u001b[0m\u001b[0m\n\u001b[0m\u001b[1;32m    406\u001b[0m \u001b[0;34m\u001b[0m\u001b[0m\n\u001b[1;32m    407\u001b[0m     \u001b[0;32mif\u001b[0m \u001b[0mchunksize\u001b[0m \u001b[0;32mor\u001b[0m \u001b[0miterator\u001b[0m\u001b[0;34m:\u001b[0m\u001b[0;34m\u001b[0m\u001b[0m\n",
      "\u001b[0;32m~/anaconda3/lib/python3.6/site-packages/pandas/io/parsers.py\u001b[0m in \u001b[0;36m__init__\u001b[0;34m(self, f, engine, **kwds)\u001b[0m\n\u001b[1;32m    762\u001b[0m             \u001b[0mself\u001b[0m\u001b[0;34m.\u001b[0m\u001b[0moptions\u001b[0m\u001b[0;34m[\u001b[0m\u001b[0;34m'has_index_names'\u001b[0m\u001b[0;34m]\u001b[0m \u001b[0;34m=\u001b[0m \u001b[0mkwds\u001b[0m\u001b[0;34m[\u001b[0m\u001b[0;34m'has_index_names'\u001b[0m\u001b[0;34m]\u001b[0m\u001b[0;34m\u001b[0m\u001b[0m\n\u001b[1;32m    763\u001b[0m \u001b[0;34m\u001b[0m\u001b[0m\n\u001b[0;32m--> 764\u001b[0;31m         \u001b[0mself\u001b[0m\u001b[0;34m.\u001b[0m\u001b[0m_make_engine\u001b[0m\u001b[0;34m(\u001b[0m\u001b[0mself\u001b[0m\u001b[0;34m.\u001b[0m\u001b[0mengine\u001b[0m\u001b[0;34m)\u001b[0m\u001b[0;34m\u001b[0m\u001b[0m\n\u001b[0m\u001b[1;32m    765\u001b[0m \u001b[0;34m\u001b[0m\u001b[0m\n\u001b[1;32m    766\u001b[0m     \u001b[0;32mdef\u001b[0m \u001b[0mclose\u001b[0m\u001b[0;34m(\u001b[0m\u001b[0mself\u001b[0m\u001b[0;34m)\u001b[0m\u001b[0;34m:\u001b[0m\u001b[0;34m\u001b[0m\u001b[0m\n",
      "\u001b[0;32m~/anaconda3/lib/python3.6/site-packages/pandas/io/parsers.py\u001b[0m in \u001b[0;36m_make_engine\u001b[0;34m(self, engine)\u001b[0m\n\u001b[1;32m    983\u001b[0m     \u001b[0;32mdef\u001b[0m \u001b[0m_make_engine\u001b[0m\u001b[0;34m(\u001b[0m\u001b[0mself\u001b[0m\u001b[0;34m,\u001b[0m \u001b[0mengine\u001b[0m\u001b[0;34m=\u001b[0m\u001b[0;34m'c'\u001b[0m\u001b[0;34m)\u001b[0m\u001b[0;34m:\u001b[0m\u001b[0;34m\u001b[0m\u001b[0m\n\u001b[1;32m    984\u001b[0m         \u001b[0;32mif\u001b[0m \u001b[0mengine\u001b[0m \u001b[0;34m==\u001b[0m \u001b[0;34m'c'\u001b[0m\u001b[0;34m:\u001b[0m\u001b[0;34m\u001b[0m\u001b[0m\n\u001b[0;32m--> 985\u001b[0;31m             \u001b[0mself\u001b[0m\u001b[0;34m.\u001b[0m\u001b[0m_engine\u001b[0m \u001b[0;34m=\u001b[0m \u001b[0mCParserWrapper\u001b[0m\u001b[0;34m(\u001b[0m\u001b[0mself\u001b[0m\u001b[0;34m.\u001b[0m\u001b[0mf\u001b[0m\u001b[0;34m,\u001b[0m \u001b[0;34m**\u001b[0m\u001b[0mself\u001b[0m\u001b[0;34m.\u001b[0m\u001b[0moptions\u001b[0m\u001b[0;34m)\u001b[0m\u001b[0;34m\u001b[0m\u001b[0m\n\u001b[0m\u001b[1;32m    986\u001b[0m         \u001b[0;32melse\u001b[0m\u001b[0;34m:\u001b[0m\u001b[0;34m\u001b[0m\u001b[0m\n\u001b[1;32m    987\u001b[0m             \u001b[0;32mif\u001b[0m \u001b[0mengine\u001b[0m \u001b[0;34m==\u001b[0m \u001b[0;34m'python'\u001b[0m\u001b[0;34m:\u001b[0m\u001b[0;34m\u001b[0m\u001b[0m\n",
      "\u001b[0;32m~/anaconda3/lib/python3.6/site-packages/pandas/io/parsers.py\u001b[0m in \u001b[0;36m__init__\u001b[0;34m(self, src, **kwds)\u001b[0m\n\u001b[1;32m   1603\u001b[0m         \u001b[0mkwds\u001b[0m\u001b[0;34m[\u001b[0m\u001b[0;34m'allow_leading_cols'\u001b[0m\u001b[0;34m]\u001b[0m \u001b[0;34m=\u001b[0m \u001b[0mself\u001b[0m\u001b[0;34m.\u001b[0m\u001b[0mindex_col\u001b[0m \u001b[0;32mis\u001b[0m \u001b[0;32mnot\u001b[0m \u001b[0;32mFalse\u001b[0m\u001b[0;34m\u001b[0m\u001b[0m\n\u001b[1;32m   1604\u001b[0m \u001b[0;34m\u001b[0m\u001b[0m\n\u001b[0;32m-> 1605\u001b[0;31m         \u001b[0mself\u001b[0m\u001b[0;34m.\u001b[0m\u001b[0m_reader\u001b[0m \u001b[0;34m=\u001b[0m \u001b[0mparsers\u001b[0m\u001b[0;34m.\u001b[0m\u001b[0mTextReader\u001b[0m\u001b[0;34m(\u001b[0m\u001b[0msrc\u001b[0m\u001b[0;34m,\u001b[0m \u001b[0;34m**\u001b[0m\u001b[0mkwds\u001b[0m\u001b[0;34m)\u001b[0m\u001b[0;34m\u001b[0m\u001b[0m\n\u001b[0m\u001b[1;32m   1606\u001b[0m \u001b[0;34m\u001b[0m\u001b[0m\n\u001b[1;32m   1607\u001b[0m         \u001b[0;31m# XXX\u001b[0m\u001b[0;34m\u001b[0m\u001b[0;34m\u001b[0m\u001b[0m\n",
      "\u001b[0;32mpandas/_libs/parsers.pyx\u001b[0m in \u001b[0;36mpandas._libs.parsers.TextReader.__cinit__ (pandas/_libs/parsers.c:4209)\u001b[0;34m()\u001b[0m\n",
      "\u001b[0;32mpandas/_libs/parsers.pyx\u001b[0m in \u001b[0;36mpandas._libs.parsers.TextReader._setup_parser_source (pandas/_libs/parsers.c:8873)\u001b[0;34m()\u001b[0m\n",
      "\u001b[0;31mFileNotFoundError\u001b[0m: File b'sales_data_training.csv' does not exist"
     ],
     "output_type": "error"
    }
   ],
   "source": [
    ""
   ]
  },
  {
   "cell_type": "code",
   "execution_count": null,
   "metadata": {},
   "outputs": [],
   "source": []
  }
 ],
 "metadata": {
  "kernelspec": {
   "display_name": "Python 2",
   "language": "python",
   "name": "python2"
  },
  "language_info": {
   "codemirror_mode": {
    "name": "ipython",
    "version": 2
   },
   "file_extension": ".py",
   "mimetype": "text/x-python",
   "name": "python",
   "nbconvert_exporter": "python",
   "pygments_lexer": "ipython2",
   "version": "2.7.6"
  }
 },
 "nbformat": 4,
 "nbformat_minor": 0
}
